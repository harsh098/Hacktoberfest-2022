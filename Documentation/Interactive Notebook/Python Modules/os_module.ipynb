{
 "cells": [
  {
   "cell_type": "markdown",
   "id": "b49aff7b-aa98-41b3-848a-b0b99f8e1719",
   "metadata": {
    "tags": []
   },
   "source": [
    "# os module in Python"
   ]
  },
  {
   "cell_type": "markdown",
   "id": "d5e59931-1f37-40b4-aaa8-c49443a11073",
   "metadata": {},
   "source": [
    "OS module in python allows developers to have easy to use miscellaneous interfaces to perform operating system tasks.  \n",
    "It allows developers to perform operating system dependent tasks in a portable way."
   ]
  },
  {
   "cell_type": "markdown",
   "id": "0b696c7e-4373-4845-a228-27860fb5329c",
   "metadata": {},
   "source": [
    "_While most of the functions in os module are portable accross platforms there are instances that their support and usage differs from platform-to-platform._  \n",
    "  \n",
    "  \n",
    "## Before you begin\n",
    "**A few things to be noted before we begin with our journey with os module** :-  \n",
    "[Source:-(https://python.readthedocs.io/en/stable/library/os.html)](https://python.readthedocs.io/en/stable/library/os.html)  \n",
    "- The design of all built-in operating system dependent modules of Python is such that as long as the same functionality is available, it uses the same interface; for example, the function os.stat(path) returns stat information about path in the same format (which happens to have originated with the POSIX interface).\n",
    "- Extensions peculiar to a particular operating system are also available through the os module, but using them is of course a threat to portability.\n",
    "- All functions accepting path or file names accept both bytes and string objects, and result in an object of the same type, if a path or file name is returned.\n",
    "- An “Availability: Unix” note means that this function is commonly found on Unix systems. It does not make any claims about its existence on a specific operating system.\n",
    "- If not separately noted, all functions that claim “Availability: Unix” are supported on Mac OS X, which builds on a Unix core.  \n",
    "\n",
    "\n",
    "\n",
    ">**If this jargon does not make sense to you do not panic. You will understand it when you will start using the module. Also, a lot of this jargon will be simplified throughout this document.I felt it was very much needed to prepare you before you actually use the module.**"
   ]
  },
  {
   "cell_type": "markdown",
   "id": "2eefd010-ce8a-4317-9e6c-aa9dfbde8f80",
   "metadata": {},
   "source": [
    "## Prerequisites  \n",
    "- Basic command-line familiarity with Windows Command-Prompt/Powershell , bash/zsh on MacOS/Linux/BSD required\n",
    "- Must know basics such as writing loops, functions etc."
   ]
  },
  {
   "cell_type": "markdown",
   "id": "c811fd03-390d-45f5-8b7a-38cf3343645e",
   "metadata": {},
   "source": [
    "## 1. Getting Started"
   ]
  },
  {
   "cell_type": "markdown",
   "id": "c1b84a52-88f9-46ba-88bb-06cab5b81ee1",
   "metadata": {},
   "source": [
    "### 1.1 Importing the os module"
   ]
  },
  {
   "cell_type": "code",
   "execution_count": 2,
   "id": "4aae252f-8bc3-481b-b510-7d823485c52f",
   "metadata": {},
   "outputs": [],
   "source": [
    "import os"
   ]
  },
  {
   "cell_type": "markdown",
   "id": "366e4fff-e397-40dc-8a0e-ee7e0b51def3",
   "metadata": {},
   "source": [
    "## 2. File Management with os module  \n",
    "  \n",
    "The following section deals with commonly used commands for working with filesystem. Most of the utilities are cross platform except for the path specifications that differ between Windows and Linux/BSD/MacOS."
   ]
  },
  {
   "cell_type": "markdown",
   "id": "89c21267-be2b-4e44-8559-9a025883a5bf",
   "metadata": {},
   "source": [
    "### 2.1 Important Concepts:- Absolute vs Relative Path types  \n",
    "\n",
    "#### 2.1.1 Formal Definitions  \n",
    "##### **Absolute Path**:-  \n",
    ">An absolute path is the full path specification for a file or directory in a file system. It is like a compelete address to a file/directory present in a file system.  \n",
    "\n",
    "##### **Relative Path**:-  \n",
    ">A relative path is the path specification relative to the current working directory i.e. the directory user is currently working in or where the execution of the program occurs.   \n",
    "\n",
    "\n",
    "#### 2.1.2 Explaination with a Windows Example  \n",
    "\n",
    "Suppose a file `calc.exe` is contained in `System32` folder inside `Windows` folder inside `C` drive. Now the full path to the file is written as:-  \n",
    "\n",
    ">C:\\Windows\\System32\\calc.exe  \n",
    "\n",
    "Now, this path is called the **Absolute Path** to `calc.exe`.  \n",
    "Now, suppose you are working in **Command-Prompt** or **Powershell** and the current directory is `C\\Windows`.\n",
    "Now, to start `calc.exe` you type in  \n",
    "\n",
    ">C:\\Windows> System32\\calc.exe  \n",
    "\n",
    "Here, the `System32\\calc.exe` is the **Relative Path** to `calc.exe` \n",
    "\n",
    "#### 2.1.3 Explaination with a Linux/BSD/macOS example"
   ]
  },
  {
   "cell_type": "markdown",
   "id": "24056d9a-cda3-4456-a4f4-22c9a1d93c5a",
   "metadata": {},
   "source": [
    "Suppose the current directory you are working with is `/home/harsh/Hacktoberfest-2022` **(Yeah, you got that right its nothing but path where this repo was cloned )**.  \n",
    "the directory tree view looks as follows:-  \n",
    "```\n",
    "$ tree \n",
    ".\n",
    "├── CODE_OF_CONDUCT.md\n",
    "├── CONTRIBUTING.md\n",
    "├── CONTRIBUTORS.md\n",
    "├── Documentation\n",
    "│   ├── Artificial Intelligence\n",
    "│   │   └── README.md\n",
    "│   ├── Audio\n",
    "│   │   └── README.md\n",
    "│   ├── Cloud\n",
    "│   │   └── README.md\n",
    "│   ├── Cyber Security\n",
    "│   │   └── README.md\n",
    "│   ├── Data Sets\n",
    "│   │   └── README.md\n",
    "│   ├── Interactive Notebook\n",
    "│   │   ├── Python Modules\n",
    "│   │   │   ├── os_module.ipynb\n",
    "│   │   │   └── Untitled.ipynb\n",
    "│   │   └── README.md\n",
    "│   ├── Interview Questions\n",
    "│   │   └── README.md\n",
    "│   ├── README.md\n",
    "│   └── Video\n",
    "│       └── README.md\n",
    "├── Modules\n",
    "├── Programs\n",
    "│   ├── C++\n",
    "│   │   ├── Print the Nth Even Number.md\n",
    "│   │   └── README.md\n",
    "│   ├── Debug\n",
    "│   │   └── README.md\n",
    "│   ├── JAVA\n",
    "│   │   ├── Create even and odd list from given range N.md\n",
    "│   │   ├── Nth Even Number.md\n",
    "│   │   ├── Nth Odd Number.md\n",
    "│   │   ├── Print first 10 even numbers.md\n",
    "│   │   └── README.md\n",
    "│   ├── Python\n",
    "│   │   └── README.md\n",
    "│   └── README.md\n",
    "└── README.md\n",
    "\n",
    "\n",
    "```\n",
    "Now remember our current directory is `/home/harsh/Hacktoberfest-2022`  \n",
    "To open the `README.md` file contained inside `Documentation` folder inside vim **(A command-line based text-editor. If you haven't tried out give it a shot)**  \n",
    "\n",
    ">&dollar; vim Documenation/README.md  \n",
    "\n",
    "Now, `Documentation/README.md` is the **Absolute Path**  \n",
    "\n",
    "Now, there is another way to reference the same file and open on vim.  \n",
    "\n",
    ">&dollar; vim /home/harsh/Hacktoberfest-2022/Documenation/README.md  \n",
    "\n",
    "Now the path specified `/home/harsh/Hacktoberfest-2022/Documenation/README.md` is called **Relative Path**.\n",
    "\n"
   ]
  },
  {
   "cell_type": "markdown",
   "id": "ac70f1fa-7936-44ac-9135-bb818a3583fd",
   "metadata": {},
   "source": [
    "### 2.2 os.getcwd()\n",
    ">Get current working directory.  \n",
    "Returns the absolute path as a `str`"
   ]
  },
  {
   "cell_type": "code",
   "execution_count": 4,
   "id": "41b1360a-4bcf-4f0d-9cfe-78293126c876",
   "metadata": {},
   "outputs": [
    {
     "name": "stdout",
     "output_type": "stream",
     "text": [
      "/home/harsh/Hacktoberfest-2022/Documentation/Interactive Notebook/Python Modules\n",
      "Return Type:- <class 'str'>\n"
     ]
    }
   ],
   "source": [
    "import os\n",
    "print(os.getcwd())\n",
    "print('Return Type:-',type(os.getcwd()))"
   ]
  },
  {
   "cell_type": "markdown",
   "id": "e675cd22-5132-43f1-b4d4-db6f021a0df0",
   "metadata": {},
   "source": [
    "## 2.3 os.mkdir()\n",
    "> Python counterpart for `mkdir` command found on Windows and UNIX-like operating systems.  \n",
    ">Used to create directories.  \n",
    ">- If relative path is given the new directory is created according to the relative path  \n",
    ">- If absolute path is given the new directory is created according to the absolute path given"
   ]
  },
  {
   "cell_type": "code",
   "execution_count": 7,
   "id": "43f20c41-2521-4667-978e-398bb279b4e1",
   "metadata": {},
   "outputs": [
    {
     "name": "stdout",
     "output_type": "stream",
     "text": [
      "/home/harsh/Hacktoberfest-2022/Documentation/Interactive Notebook/Python Modules\n",
      "Return Type:- <class 'NoneType'>\n"
     ]
    }
   ],
   "source": [
    "import os\n",
    "print(os.getcwd())\n",
    "newdir = os.mkdir('testing')\n",
    "print('Return Type:-',type(newdir)) \n",
    "# Return type 'NoneType' tells that the funtion does not return anything"
   ]
  },
  {
   "cell_type": "markdown",
   "id": "d67173f7-d398-417c-9635-7d1dde4c4321",
   "metadata": {},
   "source": [
    "## 2.4 os.makedirs()  \n",
    "\n",
    ">`os.makedirs()` method in Python is used to create a directory `recursively`. That means while making leaf directory if any intermediate-level directory is missing, os.makedirs() method will create them all.\n",
    ">If directory to create already exists an `FileExistsError` is raised if the target directory already exists."
   ]
  },
  {
   "cell_type": "code",
   "execution_count": 8,
   "id": "5334faf5-3315-400b-b132-d5d3d20971d5",
   "metadata": {},
   "outputs": [
    {
     "name": "stdout",
     "output_type": "stream",
     "text": [
      "/home/harsh/Hacktoberfest-2022/Documentation/Interactive Notebook/Python Modules\n",
      "Return Type:- <class 'NoneType'>\n"
     ]
    }
   ],
   "source": [
    "import os\n",
    "print(os.getcwd())\n",
    "newdir = 'testing/test1/test2'\n",
    "newdir = os.makedirs(newdir)\n",
    "print('Return Type:-',type(newdir))\n"
   ]
  },
  {
   "cell_type": "code",
   "execution_count": 10,
   "id": "d4b6f561-4c74-4775-86ca-fe814b691c48",
   "metadata": {},
   "outputs": [
    {
     "ename": "FileExistsError",
     "evalue": "[Errno 17] File exists: 'testing/test1/test2'",
     "output_type": "error",
     "traceback": [
      "\u001b[0;31m---------------------------------------------------------------------------\u001b[0m",
      "\u001b[0;31mFileExistsError\u001b[0m                           Traceback (most recent call last)",
      "\u001b[0;32m/tmp/ipykernel_180449/2671140737.py\u001b[0m in \u001b[0;36m<module>\u001b[0;34m\u001b[0m\n\u001b[1;32m      1\u001b[0m \u001b[0;31m#FileExistsError demonstration\u001b[0m\u001b[0;34m\u001b[0m\u001b[0;34m\u001b[0m\u001b[0m\n\u001b[0;32m----> 2\u001b[0;31m \u001b[0mos\u001b[0m\u001b[0;34m.\u001b[0m\u001b[0mmakedirs\u001b[0m\u001b[0;34m(\u001b[0m\u001b[0;34m'testing/test1/test2'\u001b[0m\u001b[0;34m)\u001b[0m\u001b[0;34m\u001b[0m\u001b[0;34m\u001b[0m\u001b[0m\n\u001b[0m",
      "\u001b[0;32m~/anaconda3/lib/python3.9/os.py\u001b[0m in \u001b[0;36mmakedirs\u001b[0;34m(name, mode, exist_ok)\u001b[0m\n\u001b[1;32m    223\u001b[0m             \u001b[0;32mreturn\u001b[0m\u001b[0;34m\u001b[0m\u001b[0;34m\u001b[0m\u001b[0m\n\u001b[1;32m    224\u001b[0m     \u001b[0;32mtry\u001b[0m\u001b[0;34m:\u001b[0m\u001b[0;34m\u001b[0m\u001b[0;34m\u001b[0m\u001b[0m\n\u001b[0;32m--> 225\u001b[0;31m         \u001b[0mmkdir\u001b[0m\u001b[0;34m(\u001b[0m\u001b[0mname\u001b[0m\u001b[0;34m,\u001b[0m \u001b[0mmode\u001b[0m\u001b[0;34m)\u001b[0m\u001b[0;34m\u001b[0m\u001b[0;34m\u001b[0m\u001b[0m\n\u001b[0m\u001b[1;32m    226\u001b[0m     \u001b[0;32mexcept\u001b[0m \u001b[0mOSError\u001b[0m\u001b[0;34m:\u001b[0m\u001b[0;34m\u001b[0m\u001b[0;34m\u001b[0m\u001b[0m\n\u001b[1;32m    227\u001b[0m         \u001b[0;31m# Cannot rely on checking for EEXIST, since the operating system\u001b[0m\u001b[0;34m\u001b[0m\u001b[0;34m\u001b[0m\u001b[0m\n",
      "\u001b[0;31mFileExistsError\u001b[0m: [Errno 17] File exists: 'testing/test1/test2'"
     ]
    }
   ],
   "source": [
    "#FileExistsError demonstration\n",
    "os.makedirs('testing/test1/test2')"
   ]
  },
  {
   "cell_type": "code",
   "execution_count": null,
   "id": "996356c7-5b26-49fe-b674-21f54178eed3",
   "metadata": {},
   "outputs": [],
   "source": []
  }
 ],
 "metadata": {
  "kernelspec": {
   "display_name": "Python 3 (ipykernel)",
   "language": "python",
   "name": "python3"
  },
  "language_info": {
   "codemirror_mode": {
    "name": "ipython",
    "version": 3
   },
   "file_extension": ".py",
   "mimetype": "text/x-python",
   "name": "python",
   "nbconvert_exporter": "python",
   "pygments_lexer": "ipython3",
   "version": "3.9.7"
  }
 },
 "nbformat": 4,
 "nbformat_minor": 5
}
